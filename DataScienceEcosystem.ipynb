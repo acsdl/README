{
 "cells": [
  {
   "cell_type": "markdown",
   "id": "95d720e2",
   "metadata": {},
   "source": [
    "# Data Science Tools and Ecosystem"
   ]
  },
  {
   "cell_type": "markdown",
   "id": "39eddbff",
   "metadata": {},
   "source": [
    "## In this notebook, Data Science Tools and Ecosystem are summarized. "
   ]
  },
  {
   "cell_type": "code",
   "execution_count": 13,
   "id": "33d50dc5",
   "metadata": {},
   "outputs": [
    {
     "name": "stdout",
     "output_type": "stream",
     "text": [
      "\u001b[1mObjectives:\n"
     ]
    }
   ],
   "source": [
    "print ('\\033[1m' + (\"Objectives:\"))"
   ]
  },
  {
   "cell_type": "markdown",
   "id": "e52f45bb",
   "metadata": {},
   "source": [
    "- Review languages such as Java, Scala, etc\n",
    "- Open Source, Cloud- Based and Commercial Options for data science tools\n",
    "- Types of libraries in sata science"
   ]
  },
  {
   "cell_type": "markdown",
   "id": "6ccd262f",
   "metadata": {},
   "source": [
    "## Some of the popular languages that Data Scientists use are:\n",
    "\n",
    "1. Python\n",
    "2. SQL\n",
    "3. Julia\n"
   ]
  },
  {
   "cell_type": "markdown",
   "id": "7000ed96",
   "metadata": {},
   "source": [
    "Some of the commonly used libraries used by Data Scientists include:\n",
    "- Pandas\n",
    "- NumPy\n",
    "- SciPy"
   ]
  },
  {
   "cell_type": "markdown",
   "id": "7266647e",
   "metadata": {},
   "source": [
    "### Below are a few examples of evaluating arithmetic expressions in Python"
   ]
  },
  {
   "cell_type": "markdown",
   "id": "b5b40533",
   "metadata": {},
   "source": [
    "This will convert 200 minutes to hours by diving by 60\n",
    "\n"
   ]
  },
  {
   "cell_type": "code",
   "execution_count": 3,
   "id": "4261c64e",
   "metadata": {},
   "outputs": [
    {
     "name": "stdout",
     "output_type": "stream",
     "text": [
      "03:20\n"
     ]
    }
   ],
   "source": [
    "minutes = 200\n",
    "print(\"%02d:%02d\" % (divmod(minutes, 60)))"
   ]
  },
  {
   "cell_type": "markdown",
   "id": "a0258883",
   "metadata": {},
   "source": [
    "## Author: \n",
    "Ana Cecilia Sanchez Diaz Limon"
   ]
  },
  {
   "cell_type": "code",
   "execution_count": null,
   "id": "92e37a42",
   "metadata": {},
   "outputs": [],
   "source": []
  }
 ],
 "metadata": {
  "kernelspec": {
   "display_name": "Python 3 (ipykernel)",
   "language": "python",
   "name": "python3"
  },
  "language_info": {
   "codemirror_mode": {
    "name": "ipython",
    "version": 3
   },
   "file_extension": ".py",
   "mimetype": "text/x-python",
   "name": "python",
   "nbconvert_exporter": "python",
   "pygments_lexer": "ipython3",
   "version": "3.10.9"
  }
 },
 "nbformat": 4,
 "nbformat_minor": 5
}
